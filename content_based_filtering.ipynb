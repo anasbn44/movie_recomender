{
 "cells": [
  {
   "cell_type": "code",
   "execution_count": 1,
   "metadata": {
    "collapsed": true
   },
   "outputs": [],
   "source": [
    "import numpy as np\n",
    "import pandas as pd\n",
    "\n",
    "from sklearn.model_selection import train_test_split\n",
    "from sklearn.preprocessing import MinMaxScaler, StandardScaler\n",
    "\n",
    "import tensorflow as tf\n",
    "\n",
    "import matplotlib.pyplot as plt\n",
    "\n",
    "from CBF_utils import load_data"
   ]
  },
  {
   "cell_type": "code",
   "execution_count": 23,
   "outputs": [
    {
     "name": "stdout",
     "output_type": "stream",
     "text": [
      "movies training set shape : (100836, 23)\n",
      "user training set shape : (100836, 23)\n",
      "y training set shape : (100836,)\n",
      "original movies dataset shape : (9742, 4)\n"
     ]
    }
   ],
   "source": [
    "df_movies_train, df_user_train, df_y_train, df_movies, movie_vecs = load_data()\n",
    "\n",
    "print(f\"movies training set shape : {df_movies_train.shape}\")\n",
    "print(f\"user training set shape : {df_user_train.shape}\")\n",
    "print(f\"y training set shape : {df_y_train.shape}\")\n",
    "print(f\"original movies dataset shape : {df_movies.shape}\")"
   ],
   "metadata": {
    "collapsed": false
   }
  },
  {
   "cell_type": "code",
   "execution_count": 3,
   "outputs": [
    {
     "name": "stdout",
     "output_type": "stream",
     "text": [
      "movies training contains nan values : 0\n",
      "user training contains nan values : 0\n",
      "y training contains nan values : 0\n"
     ]
    }
   ],
   "source": [
    "print(f\"movies training contains nan values : {df_movies_train.isna().values.sum()}\")\n",
    "print(f\"user training contains nan values : {df_user_train.isna().values.sum()}\")\n",
    "print(f\"y training contains nan values : {df_y_train.isna().values.sum()}\")"
   ],
   "metadata": {
    "collapsed": false
   }
  },
  {
   "cell_type": "code",
   "execution_count": 4,
   "outputs": [
    {
     "data": {
      "text/plain": "     movieId  year    rating  (no genres listed)  Action  Adventure  \\\n0          1  1995  3.920930                 0.0     0.0        1.0   \n215        3  1995  3.259615                 0.0     0.0        0.0   \n267        6  1995  3.946078                 0.0     1.0        0.0   \n369       47  1995  3.975369                 0.0     0.0        0.0   \n572       50  1995  4.237745                 0.0     0.0        0.0   \n776       70  1996  3.509091                 0.0     1.0        0.0   \n831      101  1996  3.782609                 0.0     0.0        1.0   \n\n     Animation  Children  Comedy  Crime  ...  Film-Noir  Horror  IMAX  \\\n0          1.0       1.0     1.0    0.0  ...        0.0     0.0   0.0   \n215        0.0       0.0     1.0    0.0  ...        0.0     0.0   0.0   \n267        0.0       0.0     0.0    1.0  ...        0.0     0.0   0.0   \n369        0.0       0.0     0.0    0.0  ...        0.0     0.0   0.0   \n572        0.0       0.0     0.0    1.0  ...        0.0     0.0   0.0   \n776        0.0       0.0     1.0    0.0  ...        0.0     1.0   0.0   \n831        0.0       0.0     1.0    1.0  ...        0.0     0.0   0.0   \n\n     Musical  Mystery  Romance  Sci-Fi  Thriller  War  Western  \n0        0.0      0.0      0.0     0.0       0.0  0.0      0.0  \n215      0.0      0.0      1.0     0.0       0.0  0.0      0.0  \n267      0.0      0.0      0.0     0.0       1.0  0.0      0.0  \n369      0.0      1.0      0.0     0.0       1.0  0.0      0.0  \n572      0.0      1.0      0.0     0.0       1.0  0.0      0.0  \n776      0.0      0.0      0.0     0.0       1.0  0.0      0.0  \n831      0.0      0.0      1.0     0.0       0.0  0.0      0.0  \n\n[7 rows x 23 columns]",
      "text/html": "<div>\n<style scoped>\n    .dataframe tbody tr th:only-of-type {\n        vertical-align: middle;\n    }\n\n    .dataframe tbody tr th {\n        vertical-align: top;\n    }\n\n    .dataframe thead th {\n        text-align: right;\n    }\n</style>\n<table border=\"1\" class=\"dataframe\">\n  <thead>\n    <tr style=\"text-align: right;\">\n      <th></th>\n      <th>movieId</th>\n      <th>year</th>\n      <th>rating</th>\n      <th>(no genres listed)</th>\n      <th>Action</th>\n      <th>Adventure</th>\n      <th>Animation</th>\n      <th>Children</th>\n      <th>Comedy</th>\n      <th>Crime</th>\n      <th>...</th>\n      <th>Film-Noir</th>\n      <th>Horror</th>\n      <th>IMAX</th>\n      <th>Musical</th>\n      <th>Mystery</th>\n      <th>Romance</th>\n      <th>Sci-Fi</th>\n      <th>Thriller</th>\n      <th>War</th>\n      <th>Western</th>\n    </tr>\n  </thead>\n  <tbody>\n    <tr>\n      <th>0</th>\n      <td>1</td>\n      <td>1995</td>\n      <td>3.920930</td>\n      <td>0.0</td>\n      <td>0.0</td>\n      <td>1.0</td>\n      <td>1.0</td>\n      <td>1.0</td>\n      <td>1.0</td>\n      <td>0.0</td>\n      <td>...</td>\n      <td>0.0</td>\n      <td>0.0</td>\n      <td>0.0</td>\n      <td>0.0</td>\n      <td>0.0</td>\n      <td>0.0</td>\n      <td>0.0</td>\n      <td>0.0</td>\n      <td>0.0</td>\n      <td>0.0</td>\n    </tr>\n    <tr>\n      <th>215</th>\n      <td>3</td>\n      <td>1995</td>\n      <td>3.259615</td>\n      <td>0.0</td>\n      <td>0.0</td>\n      <td>0.0</td>\n      <td>0.0</td>\n      <td>0.0</td>\n      <td>1.0</td>\n      <td>0.0</td>\n      <td>...</td>\n      <td>0.0</td>\n      <td>0.0</td>\n      <td>0.0</td>\n      <td>0.0</td>\n      <td>0.0</td>\n      <td>1.0</td>\n      <td>0.0</td>\n      <td>0.0</td>\n      <td>0.0</td>\n      <td>0.0</td>\n    </tr>\n    <tr>\n      <th>267</th>\n      <td>6</td>\n      <td>1995</td>\n      <td>3.946078</td>\n      <td>0.0</td>\n      <td>1.0</td>\n      <td>0.0</td>\n      <td>0.0</td>\n      <td>0.0</td>\n      <td>0.0</td>\n      <td>1.0</td>\n      <td>...</td>\n      <td>0.0</td>\n      <td>0.0</td>\n      <td>0.0</td>\n      <td>0.0</td>\n      <td>0.0</td>\n      <td>0.0</td>\n      <td>0.0</td>\n      <td>1.0</td>\n      <td>0.0</td>\n      <td>0.0</td>\n    </tr>\n    <tr>\n      <th>369</th>\n      <td>47</td>\n      <td>1995</td>\n      <td>3.975369</td>\n      <td>0.0</td>\n      <td>0.0</td>\n      <td>0.0</td>\n      <td>0.0</td>\n      <td>0.0</td>\n      <td>0.0</td>\n      <td>0.0</td>\n      <td>...</td>\n      <td>0.0</td>\n      <td>0.0</td>\n      <td>0.0</td>\n      <td>0.0</td>\n      <td>1.0</td>\n      <td>0.0</td>\n      <td>0.0</td>\n      <td>1.0</td>\n      <td>0.0</td>\n      <td>0.0</td>\n    </tr>\n    <tr>\n      <th>572</th>\n      <td>50</td>\n      <td>1995</td>\n      <td>4.237745</td>\n      <td>0.0</td>\n      <td>0.0</td>\n      <td>0.0</td>\n      <td>0.0</td>\n      <td>0.0</td>\n      <td>0.0</td>\n      <td>1.0</td>\n      <td>...</td>\n      <td>0.0</td>\n      <td>0.0</td>\n      <td>0.0</td>\n      <td>0.0</td>\n      <td>1.0</td>\n      <td>0.0</td>\n      <td>0.0</td>\n      <td>1.0</td>\n      <td>0.0</td>\n      <td>0.0</td>\n    </tr>\n    <tr>\n      <th>776</th>\n      <td>70</td>\n      <td>1996</td>\n      <td>3.509091</td>\n      <td>0.0</td>\n      <td>1.0</td>\n      <td>0.0</td>\n      <td>0.0</td>\n      <td>0.0</td>\n      <td>1.0</td>\n      <td>0.0</td>\n      <td>...</td>\n      <td>0.0</td>\n      <td>1.0</td>\n      <td>0.0</td>\n      <td>0.0</td>\n      <td>0.0</td>\n      <td>0.0</td>\n      <td>0.0</td>\n      <td>1.0</td>\n      <td>0.0</td>\n      <td>0.0</td>\n    </tr>\n    <tr>\n      <th>831</th>\n      <td>101</td>\n      <td>1996</td>\n      <td>3.782609</td>\n      <td>0.0</td>\n      <td>0.0</td>\n      <td>1.0</td>\n      <td>0.0</td>\n      <td>0.0</td>\n      <td>1.0</td>\n      <td>1.0</td>\n      <td>...</td>\n      <td>0.0</td>\n      <td>0.0</td>\n      <td>0.0</td>\n      <td>0.0</td>\n      <td>0.0</td>\n      <td>1.0</td>\n      <td>0.0</td>\n      <td>0.0</td>\n      <td>0.0</td>\n      <td>0.0</td>\n    </tr>\n  </tbody>\n</table>\n<p>7 rows × 23 columns</p>\n</div>"
     },
     "execution_count": 4,
     "metadata": {},
     "output_type": "execute_result"
    }
   ],
   "source": [
    "df_movies_train.head(7)"
   ],
   "metadata": {
    "collapsed": false
   }
  },
  {
   "cell_type": "code",
   "execution_count": 5,
   "outputs": [
    {
     "data": {
      "text/plain": "   userId  rating_count  rating_mean  (no genres listed)    Action  Adventure  \\\n0       1           232     4.366379                 0.0  4.322222   4.388235   \n1       1           232     4.366379                 0.0  4.322222   4.388235   \n2       1           232     4.366379                 0.0  4.322222   4.388235   \n3       1           232     4.366379                 0.0  4.322222   4.388235   \n4       1           232     4.366379                 0.0  4.322222   4.388235   \n5       1           232     4.366379                 0.0  4.322222   4.388235   \n6       1           232     4.366379                 0.0  4.322222   4.388235   \n\n   Animation  Children    Comedy     Crime  ...  Film-Noir    Horror  IMAX  \\\n0   4.689655  4.547619  4.277108  4.355556  ...        5.0  3.470588   0.0   \n1   4.689655  4.547619  4.277108  4.355556  ...        5.0  3.470588   0.0   \n2   4.689655  4.547619  4.277108  4.355556  ...        5.0  3.470588   0.0   \n3   4.689655  4.547619  4.277108  4.355556  ...        5.0  3.470588   0.0   \n4   4.689655  4.547619  4.277108  4.355556  ...        5.0  3.470588   0.0   \n5   4.689655  4.547619  4.277108  4.355556  ...        5.0  3.470588   0.0   \n6   4.689655  4.547619  4.277108  4.355556  ...        5.0  3.470588   0.0   \n\n    Musical   Mystery   Romance  Sci-Fi  Thriller  War   Western  \n0  4.681818  4.166667  4.307692   4.225  4.145455  4.5  4.285714  \n1  4.681818  4.166667  4.307692   4.225  4.145455  4.5  4.285714  \n2  4.681818  4.166667  4.307692   4.225  4.145455  4.5  4.285714  \n3  4.681818  4.166667  4.307692   4.225  4.145455  4.5  4.285714  \n4  4.681818  4.166667  4.307692   4.225  4.145455  4.5  4.285714  \n5  4.681818  4.166667  4.307692   4.225  4.145455  4.5  4.285714  \n6  4.681818  4.166667  4.307692   4.225  4.145455  4.5  4.285714  \n\n[7 rows x 23 columns]",
      "text/html": "<div>\n<style scoped>\n    .dataframe tbody tr th:only-of-type {\n        vertical-align: middle;\n    }\n\n    .dataframe tbody tr th {\n        vertical-align: top;\n    }\n\n    .dataframe thead th {\n        text-align: right;\n    }\n</style>\n<table border=\"1\" class=\"dataframe\">\n  <thead>\n    <tr style=\"text-align: right;\">\n      <th></th>\n      <th>userId</th>\n      <th>rating_count</th>\n      <th>rating_mean</th>\n      <th>(no genres listed)</th>\n      <th>Action</th>\n      <th>Adventure</th>\n      <th>Animation</th>\n      <th>Children</th>\n      <th>Comedy</th>\n      <th>Crime</th>\n      <th>...</th>\n      <th>Film-Noir</th>\n      <th>Horror</th>\n      <th>IMAX</th>\n      <th>Musical</th>\n      <th>Mystery</th>\n      <th>Romance</th>\n      <th>Sci-Fi</th>\n      <th>Thriller</th>\n      <th>War</th>\n      <th>Western</th>\n    </tr>\n  </thead>\n  <tbody>\n    <tr>\n      <th>0</th>\n      <td>1</td>\n      <td>232</td>\n      <td>4.366379</td>\n      <td>0.0</td>\n      <td>4.322222</td>\n      <td>4.388235</td>\n      <td>4.689655</td>\n      <td>4.547619</td>\n      <td>4.277108</td>\n      <td>4.355556</td>\n      <td>...</td>\n      <td>5.0</td>\n      <td>3.470588</td>\n      <td>0.0</td>\n      <td>4.681818</td>\n      <td>4.166667</td>\n      <td>4.307692</td>\n      <td>4.225</td>\n      <td>4.145455</td>\n      <td>4.5</td>\n      <td>4.285714</td>\n    </tr>\n    <tr>\n      <th>1</th>\n      <td>1</td>\n      <td>232</td>\n      <td>4.366379</td>\n      <td>0.0</td>\n      <td>4.322222</td>\n      <td>4.388235</td>\n      <td>4.689655</td>\n      <td>4.547619</td>\n      <td>4.277108</td>\n      <td>4.355556</td>\n      <td>...</td>\n      <td>5.0</td>\n      <td>3.470588</td>\n      <td>0.0</td>\n      <td>4.681818</td>\n      <td>4.166667</td>\n      <td>4.307692</td>\n      <td>4.225</td>\n      <td>4.145455</td>\n      <td>4.5</td>\n      <td>4.285714</td>\n    </tr>\n    <tr>\n      <th>2</th>\n      <td>1</td>\n      <td>232</td>\n      <td>4.366379</td>\n      <td>0.0</td>\n      <td>4.322222</td>\n      <td>4.388235</td>\n      <td>4.689655</td>\n      <td>4.547619</td>\n      <td>4.277108</td>\n      <td>4.355556</td>\n      <td>...</td>\n      <td>5.0</td>\n      <td>3.470588</td>\n      <td>0.0</td>\n      <td>4.681818</td>\n      <td>4.166667</td>\n      <td>4.307692</td>\n      <td>4.225</td>\n      <td>4.145455</td>\n      <td>4.5</td>\n      <td>4.285714</td>\n    </tr>\n    <tr>\n      <th>3</th>\n      <td>1</td>\n      <td>232</td>\n      <td>4.366379</td>\n      <td>0.0</td>\n      <td>4.322222</td>\n      <td>4.388235</td>\n      <td>4.689655</td>\n      <td>4.547619</td>\n      <td>4.277108</td>\n      <td>4.355556</td>\n      <td>...</td>\n      <td>5.0</td>\n      <td>3.470588</td>\n      <td>0.0</td>\n      <td>4.681818</td>\n      <td>4.166667</td>\n      <td>4.307692</td>\n      <td>4.225</td>\n      <td>4.145455</td>\n      <td>4.5</td>\n      <td>4.285714</td>\n    </tr>\n    <tr>\n      <th>4</th>\n      <td>1</td>\n      <td>232</td>\n      <td>4.366379</td>\n      <td>0.0</td>\n      <td>4.322222</td>\n      <td>4.388235</td>\n      <td>4.689655</td>\n      <td>4.547619</td>\n      <td>4.277108</td>\n      <td>4.355556</td>\n      <td>...</td>\n      <td>5.0</td>\n      <td>3.470588</td>\n      <td>0.0</td>\n      <td>4.681818</td>\n      <td>4.166667</td>\n      <td>4.307692</td>\n      <td>4.225</td>\n      <td>4.145455</td>\n      <td>4.5</td>\n      <td>4.285714</td>\n    </tr>\n    <tr>\n      <th>5</th>\n      <td>1</td>\n      <td>232</td>\n      <td>4.366379</td>\n      <td>0.0</td>\n      <td>4.322222</td>\n      <td>4.388235</td>\n      <td>4.689655</td>\n      <td>4.547619</td>\n      <td>4.277108</td>\n      <td>4.355556</td>\n      <td>...</td>\n      <td>5.0</td>\n      <td>3.470588</td>\n      <td>0.0</td>\n      <td>4.681818</td>\n      <td>4.166667</td>\n      <td>4.307692</td>\n      <td>4.225</td>\n      <td>4.145455</td>\n      <td>4.5</td>\n      <td>4.285714</td>\n    </tr>\n    <tr>\n      <th>6</th>\n      <td>1</td>\n      <td>232</td>\n      <td>4.366379</td>\n      <td>0.0</td>\n      <td>4.322222</td>\n      <td>4.388235</td>\n      <td>4.689655</td>\n      <td>4.547619</td>\n      <td>4.277108</td>\n      <td>4.355556</td>\n      <td>...</td>\n      <td>5.0</td>\n      <td>3.470588</td>\n      <td>0.0</td>\n      <td>4.681818</td>\n      <td>4.166667</td>\n      <td>4.307692</td>\n      <td>4.225</td>\n      <td>4.145455</td>\n      <td>4.5</td>\n      <td>4.285714</td>\n    </tr>\n  </tbody>\n</table>\n<p>7 rows × 23 columns</p>\n</div>"
     },
     "execution_count": 5,
     "metadata": {},
     "output_type": "execute_result"
    }
   ],
   "source": [
    "df_user_train.head(7)"
   ],
   "metadata": {
    "collapsed": false
   }
  },
  {
   "cell_type": "code",
   "execution_count": 6,
   "outputs": [
    {
     "data": {
      "text/plain": "0    4.0\n1    4.0\n2    4.0\n3    5.0\n4    5.0\n5    3.0\n6    5.0\nName: rating, dtype: float64"
     },
     "execution_count": 6,
     "metadata": {},
     "output_type": "execute_result"
    }
   ],
   "source": [
    "df_y_train.head(7)"
   ],
   "metadata": {
    "collapsed": false
   }
  },
  {
   "cell_type": "code",
   "execution_count": 7,
   "outputs": [],
   "source": [
    "movie_train = df_movies_train.values.astype(float)\n",
    "user_train = df_user_train.values.astype(float)\n",
    "y_train = df_y_train.values.astype(float).reshape(-1, 1)"
   ],
   "metadata": {
    "collapsed": false
   }
  },
  {
   "cell_type": "code",
   "execution_count": 8,
   "outputs": [
    {
     "name": "stdout",
     "output_type": "stream",
     "text": [
      "False\n",
      "False\n",
      "False\n"
     ]
    },
    {
     "data": {
      "text/plain": "dtype('float64')"
     },
     "execution_count": 8,
     "metadata": {},
     "output_type": "execute_result"
    }
   ],
   "source": [
    "print(np.any(np.isnan(movie_train)))\n",
    "print(np.any(np.isnan(user_train)))\n",
    "print(np.any(np.isnan(y_train)))\n",
    "user_train.dtype"
   ],
   "metadata": {
    "collapsed": false
   }
  },
  {
   "cell_type": "code",
   "execution_count": 9,
   "outputs": [],
   "source": [
    "movies_train_unscaled = movie_train\n",
    "user_train_unscaled = user_train\n",
    "y_train_unscaled = y_train\n",
    "\n",
    "movie_scaler = StandardScaler()\n",
    "movie_train = movie_scaler.fit_transform(movie_train)\n",
    "\n",
    "user_scaler = StandardScaler()\n",
    "user_train = user_scaler.fit_transform(user_train)\n",
    "\n",
    "y_scaler = MinMaxScaler()\n",
    "y_train = y_scaler.fit_transform(y_train)"
   ],
   "metadata": {
    "collapsed": false
   }
  },
  {
   "cell_type": "code",
   "execution_count": 10,
   "outputs": [
    {
     "name": "stdout",
     "output_type": "stream",
     "text": [
      "True\n",
      "True\n"
     ]
    }
   ],
   "source": [
    "print(np.allclose(movies_train_unscaled, movie_scaler.inverse_transform(movie_train)))\n",
    "print(np.allclose(user_train_unscaled, user_scaler.inverse_transform(user_train)))"
   ],
   "metadata": {
    "collapsed": false
   }
  },
  {
   "cell_type": "code",
   "execution_count": 11,
   "outputs": [
    {
     "name": "stdout",
     "output_type": "stream",
     "text": [
      "training data shape : (80668, 23)\n",
      "test data shape : (20168, 23)\n"
     ]
    }
   ],
   "source": [
    "movie_train, movie_test = train_test_split(movie_train, shuffle=True, train_size=0.8, random_state=1)\n",
    "user_train, user_test = train_test_split(user_train, shuffle=True, train_size=0.8, random_state=1)\n",
    "y_train, y_test = train_test_split(y_train, shuffle=True, train_size=0.8, random_state=1)\n",
    "\n",
    "print(f\"training data shape : {movie_train.shape}\")\n",
    "print(f\"test data shape : {movie_test.shape}\")"
   ],
   "metadata": {
    "collapsed": false
   }
  },
  {
   "cell_type": "code",
   "execution_count": 12,
   "outputs": [
    {
     "name": "stdout",
     "output_type": "stream",
     "text": [
      "Model: \"model\"\n",
      "__________________________________________________________________________________________________\n",
      " Layer (type)                   Output Shape         Param #     Connected to                     \n",
      "==================================================================================================\n",
      " user_input (InputLayer)        [(None, 20)]         0           []                               \n",
      "                                                                                                  \n",
      " movie_input (InputLayer)       [(None, 22)]         0           []                               \n",
      "                                                                                                  \n",
      " users_NN (Sequential)          (None, 64)           158528      ['user_input[0][0]']             \n",
      "                                                                                                  \n",
      " movies_NN (Sequential)         (None, 64)           159552      ['movie_input[0][0]']            \n",
      "                                                                                                  \n",
      " tf.math.l2_normalize_1 (TFOpLa  (None, 64)          0           ['users_NN[0][0]']               \n",
      " mbda)                                                                                            \n",
      "                                                                                                  \n",
      " tf.math.l2_normalize (TFOpLamb  (None, 64)          0           ['movies_NN[0][0]']              \n",
      " da)                                                                                              \n",
      "                                                                                                  \n",
      " dot (Dot)                      (None, 1)            0           ['tf.math.l2_normalize_1[0][0]', \n",
      "                                                                  'tf.math.l2_normalize[0][0]']   \n",
      "                                                                                                  \n",
      "==================================================================================================\n",
      "Total params: 318,080\n",
      "Trainable params: 318,080\n",
      "Non-trainable params: 0\n",
      "__________________________________________________________________________________________________\n"
     ]
    }
   ],
   "source": [
    "tf.random.set_seed(1)\n",
    "\n",
    "movie_nn = tf.keras.Sequential([\n",
    "    tf.keras.layers.Dense(512, activation='relu'),\n",
    "    tf.keras.layers.Dropout(0.2),\n",
    "    tf.keras.layers.Dense(256, activation='relu'),\n",
    "    tf.keras.layers.Dropout(0.2),\n",
    "    tf.keras.layers.Dense(64, activation='linear'),\n",
    "], name='movies_NN')\n",
    "\n",
    "user_nn = tf.keras.Sequential([\n",
    "    tf.keras.layers.Dense(512, activation='relu'),\n",
    "    tf.keras.layers.Dropout(0.2),\n",
    "    tf.keras.layers.Dense(256, activation='relu'),\n",
    "    tf.keras.layers.Dropout(0.2),\n",
    "    tf.keras.layers.Dense(64, activation='linear'),\n",
    "], name='users_NN')\n",
    "\n",
    "movie_input = tf.keras.layers.Input(shape=(movie_train.shape[1] - 1), name='movie_input')\n",
    "vm = movie_nn(movie_input)\n",
    "vm = tf.linalg.l2_normalize(vm, axis=1)\n",
    "\n",
    "user_input = tf.keras.layers.Input(shape=(user_train.shape[1] - 3), name='user_input')\n",
    "vu = user_nn(user_input)\n",
    "vu = tf.linalg.l2_normalize(vu, axis=1)\n",
    "\n",
    "output = tf.keras.layers.Dot(axes=1)([vu, vm])\n",
    "\n",
    "model = tf.keras.Model([user_input, movie_input], output)\n",
    "\n",
    "model.summary()"
   ],
   "metadata": {
    "collapsed": false
   }
  },
  {
   "cell_type": "code",
   "execution_count": 13,
   "outputs": [],
   "source": [
    "model.compile(optimizer=tf.keras.optimizers.Adam(learning_rate=0.01),\n",
    "              loss=tf.keras.losses.MeanSquaredError())"
   ],
   "metadata": {
    "collapsed": false
   }
  },
  {
   "cell_type": "code",
   "execution_count": 14,
   "outputs": [
    {
     "name": "stdout",
     "output_type": "stream",
     "text": [
      "Epoch 1/20\n",
      "2521/2521 [==============================] - 13s 5ms/step - loss: 0.0346 - val_loss: 0.0342\n",
      "Epoch 2/20\n",
      "2521/2521 [==============================] - 13s 5ms/step - loss: 0.0328 - val_loss: 0.0333\n",
      "Epoch 3/20\n",
      "2521/2521 [==============================] - 14s 6ms/step - loss: 0.0322 - val_loss: 0.0324\n",
      "Epoch 4/20\n",
      "2521/2521 [==============================] - 14s 5ms/step - loss: 0.0318 - val_loss: 0.0313\n",
      "Epoch 5/20\n",
      "2521/2521 [==============================] - 14s 5ms/step - loss: 0.0316 - val_loss: 0.0315\n",
      "Epoch 6/20\n",
      "2521/2521 [==============================] - 14s 5ms/step - loss: 0.0313 - val_loss: 0.0310\n",
      "Epoch 7/20\n",
      "2521/2521 [==============================] - 13s 5ms/step - loss: 0.0308 - val_loss: 0.0311\n",
      "Epoch 8/20\n",
      "2521/2521 [==============================] - 13s 5ms/step - loss: 0.0306 - val_loss: 0.0305\n",
      "Epoch 9/20\n",
      "2521/2521 [==============================] - 13s 5ms/step - loss: 0.0303 - val_loss: 0.0309\n",
      "Epoch 10/20\n",
      "2521/2521 [==============================] - 13s 5ms/step - loss: 0.0302 - val_loss: 0.0301\n",
      "Epoch 11/20\n",
      "2521/2521 [==============================] - 13s 5ms/step - loss: 0.0300 - val_loss: 0.0301\n",
      "Epoch 12/20\n",
      "2521/2521 [==============================] - 14s 6ms/step - loss: 0.0298 - val_loss: 0.0302\n",
      "Epoch 13/20\n",
      "2521/2521 [==============================] - 14s 5ms/step - loss: 0.0296 - val_loss: 0.0301\n",
      "Epoch 14/20\n",
      "2521/2521 [==============================] - 14s 5ms/step - loss: 0.0296 - val_loss: 0.0297\n",
      "Epoch 15/20\n",
      "2521/2521 [==============================] - 14s 6ms/step - loss: 0.0294 - val_loss: 0.0300\n",
      "Epoch 16/20\n",
      "2521/2521 [==============================] - 14s 6ms/step - loss: 0.0293 - val_loss: 0.0296\n",
      "Epoch 17/20\n",
      "2521/2521 [==============================] - 14s 5ms/step - loss: 0.0293 - val_loss: 0.0298\n",
      "Epoch 18/20\n",
      "2521/2521 [==============================] - 14s 5ms/step - loss: 0.0290 - val_loss: 0.0296\n",
      "Epoch 19/20\n",
      "2521/2521 [==============================] - 14s 5ms/step - loss: 0.0289 - val_loss: 0.0295\n",
      "Epoch 20/20\n",
      "2521/2521 [==============================] - 14s 5ms/step - loss: 0.0288 - val_loss: 0.0295\n"
     ]
    }
   ],
   "source": [
    "history = model.fit([user_train[:, 3:], movie_train[:, 1:]],\n",
    "                      y_train,\n",
    "                      epochs=20,\n",
    "                      validation_data=([user_test[:, 3:], movie_test[:, 1:]], y_test),\n",
    "                      verbose=1\n",
    "                    )"
   ],
   "metadata": {
    "collapsed": false
   }
  },
  {
   "cell_type": "code",
   "execution_count": 15,
   "outputs": [
    {
     "data": {
      "text/plain": "<Figure size 640x480 with 1 Axes>",
      "image/png": "[encoded data removed]"
     },
     "metadata": {},
     "output_type": "display_data"
    }
   ],
   "source": [
    "loss = history.history['loss']\n",
    "val_loss = history.history['val_loss']\n",
    "\n",
    "epochs = history.epoch\n",
    "\n",
    "plt.plot(epochs, loss, 'b', label = 'training loss')\n",
    "plt.plot(epochs, val_loss, 'r', label = 'validation loss')\n",
    "plt.xticks(epochs)\n",
    "plt.title('training and validation loss')\n",
    "plt.show()"
   ],
   "metadata": {
    "collapsed": false
   }
  },
  {
   "cell_type": "code",
   "execution_count": 42,
   "outputs": [],
   "source": [
    "new_user = np.array([[700, 0, 0, 0, 5, 4, 4.5, 0.5, 3.5, 3, 2.5, 2, 1, 0.5, 0.5, 0, 0.5, 2.5, 1, 0.5, 1, 2, 0.5]])\n",
    "\n",
    "user_vecs = np.tile(new_user, (len(movie_vecs), 1))\n",
    "\n",
    "scaled_user_vecs = user_scaler.transform(user_vecs)\n",
    "scaled_movie_vecs = movie_scaler.transform(movie_vecs.values)"
   ],
   "metadata": {
    "collapsed": false
   }
  },
  {
   "cell_type": "code",
   "execution_count": 43,
   "outputs": [
    {
     "name": "stdout",
     "output_type": "stream",
     "text": [
      "305/305 [==============================] - 1s 2ms/step\n"
     ]
    }
   ],
   "source": [
    "y_nu = model.predict([scaled_user_vecs[:, 3:], scaled_movie_vecs[:, 1:]])"
   ],
   "metadata": {
    "collapsed": false
   }
  },
  {
   "cell_type": "code",
   "execution_count": 47,
   "outputs": [
    {
     "data": {
      "text/plain": "      movieId                                              title  \\\n9731   191005                                     Gintama (2017)   \n9394   164226                                Maximum Ride (2016)   \n8422   111146     Alpha and Omega 3: The Great Wolf Games (2014)   \n8871   133867                               Barely Lethal (2015)   \n9255   156025              Ice Age: The Great Egg-Scapade (2016)   \n8707   124404                Snowflake, the White Gorilla (2011)   \n8114   100882  Journey to the West: Conquering the Demons (Da...   \n\n      predicted_user_rating  mean_rating  \\\n9731               4.568162         4.50   \n9394               4.548100         4.50   \n8422               4.533197         4.50   \n8871               4.501761         4.50   \n9255               4.485857         5.00   \n8707               4.475784         5.00   \n8114               4.469799         4.75   \n\n                                               genres  year  \n9731                   Action|Adventure|Comedy|Sci-Fi  2017  \n9394  Action|Adventure|Comedy|Fantasy|Sci-Fi|Thriller  2016  \n8422       Action|Adventure|Animation|Children|Comedy  2014  \n8871                          Action|Adventure|Comedy  2015  \n9255              Adventure|Animation|Children|Comedy  2016  \n8707              Adventure|Animation|Children|Comedy  2011  \n8114            Adventure|Comedy|Fantasy|Romance|IMAX  2013  ",
      "text/html": "<div>\n<style scoped>\n    .dataframe tbody tr th:only-of-type {\n        vertical-align: middle;\n    }\n\n    .dataframe tbody tr th {\n        vertical-align: top;\n    }\n\n    .dataframe thead th {\n        text-align: right;\n    }\n</style>\n<table border=\"1\" class=\"dataframe\">\n  <thead>\n    <tr style=\"text-align: right;\">\n      <th></th>\n      <th>movieId</th>\n      <th>title</th>\n      <th>predicted_user_rating</th>\n      <th>mean_rating</th>\n      <th>genres</th>\n      <th>year</th>\n    </tr>\n  </thead>\n  <tbody>\n    <tr>\n      <th>9731</th>\n      <td>191005</td>\n      <td>Gintama (2017)</td>\n      <td>4.568162</td>\n      <td>4.50</td>\n      <td>Action|Adventure|Comedy|Sci-Fi</td>\n      <td>2017</td>\n    </tr>\n    <tr>\n      <th>9394</th>\n      <td>164226</td>\n      <td>Maximum Ride (2016)</td>\n      <td>4.548100</td>\n      <td>4.50</td>\n      <td>Action|Adventure|Comedy|Fantasy|Sci-Fi|Thriller</td>\n      <td>2016</td>\n    </tr>\n    <tr>\n      <th>8422</th>\n      <td>111146</td>\n      <td>Alpha and Omega 3: The Great Wolf Games (2014)</td>\n      <td>4.533197</td>\n      <td>4.50</td>\n      <td>Action|Adventure|Animation|Children|Comedy</td>\n      <td>2014</td>\n    </tr>\n    <tr>\n      <th>8871</th>\n      <td>133867</td>\n      <td>Barely Lethal (2015)</td>\n      <td>4.501761</td>\n      <td>4.50</td>\n      <td>Action|Adventure|Comedy</td>\n      <td>2015</td>\n    </tr>\n    <tr>\n      <th>9255</th>\n      <td>156025</td>\n      <td>Ice Age: The Great Egg-Scapade (2016)</td>\n      <td>4.485857</td>\n      <td>5.00</td>\n      <td>Adventure|Animation|Children|Comedy</td>\n      <td>2016</td>\n    </tr>\n    <tr>\n      <th>8707</th>\n      <td>124404</td>\n      <td>Snowflake, the White Gorilla (2011)</td>\n      <td>4.475784</td>\n      <td>5.00</td>\n      <td>Adventure|Animation|Children|Comedy</td>\n      <td>2011</td>\n    </tr>\n    <tr>\n      <th>8114</th>\n      <td>100882</td>\n      <td>Journey to the West: Conquering the Demons (Da...</td>\n      <td>4.469799</td>\n      <td>4.75</td>\n      <td>Adventure|Comedy|Fantasy|Romance|IMAX</td>\n      <td>2013</td>\n    </tr>\n  </tbody>\n</table>\n</div>"
     },
     "execution_count": 47,
     "metadata": {},
     "output_type": "execute_result"
    }
   ],
   "source": [
    "y_nu_unscaled = y_scaler.inverse_transform(y_nu)\n",
    "df = df_movies.copy()\n",
    "df.insert(2, 'predicted_user_rating', y_nu_unscaled)\n",
    "df.insert(3, 'mean_rating', movie_vecs['rating'])\n",
    "df.sort_values(by='predicted_user_rating', ascending=False, inplace=True)\n",
    "df.iloc[:7, :]"
   ],
   "metadata": {
    "collapsed": false
   }
  },
  {
   "cell_type": "code",
   "execution_count": 80,
   "outputs": [
    {
     "data": {
      "text/plain": "    movieId  rating                                              title  \\\n0       318     3.0                   Shawshank Redemption, The (1994)   \n1       333     4.0                                   Tommy Boy (1995)   \n2      1704     4.5                           Good Will Hunting (1997)   \n3      3578     4.0                                   Gladiator (2000)   \n4      6874     4.0                           Kill Bill: Vol. 1 (2003)   \n5      8798     3.5                                  Collateral (2004)   \n6     46970     4.0  Talladega Nights: The Ballad of Ricky Bobby (2...   \n7     48516     4.0                               Departed, The (2006)   \n8     58559     4.5                            Dark Knight, The (2008)   \n9     60756     5.0                               Step Brothers (2008)   \n10    68157     4.5                        Inglourious Basterds (2009)   \n11    71535     3.0                                  Zombieland (2009)   \n12    74458     4.0                              Shutter Island (2010)   \n13    77455     3.0                  Exit Through the Gift Shop (2010)   \n14    79132     4.0                                   Inception (2010)   \n15    80489     4.5                                   Town, The (2010)   \n16    80906     5.0                                  Inside Job (2010)   \n17    86345     4.0                       Louis C.K.: Hilarious (2010)   \n18    89774     5.0                                     Warrior (2011)   \n19    91529     3.5                      Dark Knight Rises, The (2012)   \n20    91658     2.5            Girl with the Dragon Tattoo, The (2011)   \n21    99114     3.5                            Django Unchained (2012)   \n22   106782     5.0                    Wolf of Wall Street, The (2013)   \n23   109487     3.0                                Interstellar (2014)   \n24   112552     4.0                                    Whiplash (2014)   \n25   114060     2.0                                    The Drop (2014)   \n26   115713     3.5                                  Ex Machina (2015)   \n27   122882     5.0                          Mad Max: Fury Road (2015)   \n28   131724     5.0  The Jinx: The Life and Deaths of Robert Durst ...   \n\n                                             genres  year  \n0                                       Crime|Drama  1994  \n1                                            Comedy  1995  \n2                                     Drama|Romance  1997  \n3                            Action|Adventure|Drama  2000  \n4                             Action|Crime|Thriller  2003  \n5                       Action|Crime|Drama|Thriller  2004  \n6                                     Action|Comedy  2006  \n7                              Crime|Drama|Thriller  2006  \n8                           Action|Crime|Drama|IMAX  2008  \n9                                            Comedy  2008  \n10                                 Action|Drama|War  2009  \n11                             Action|Comedy|Horror  2009  \n12                           Drama|Mystery|Thriller  2010  \n13                               Comedy|Documentary  2010  \n14  Action|Crime|Drama|Mystery|Sci-Fi|Thriller|IMAX  2010  \n15                             Crime|Drama|Thriller  2010  \n16                                      Documentary  2010  \n17                                           Comedy  2010  \n18                                            Drama  2011  \n19                      Action|Adventure|Crime|IMAX  2012  \n20                                   Drama|Thriller  2011  \n21                             Action|Drama|Western  2012  \n22                               Comedy|Crime|Drama  2013  \n23                                      Sci-Fi|IMAX  2014  \n24                                            Drama  2014  \n25                             Crime|Drama|Thriller  2014  \n26                            Drama|Sci-Fi|Thriller  2015  \n27                 Action|Adventure|Sci-Fi|Thriller  2015  \n28                                      Documentary  2015  ",
      "text/html": "<div>\n<style scoped>\n    .dataframe tbody tr th:only-of-type {\n        vertical-align: middle;\n    }\n\n    .dataframe tbody tr th {\n        vertical-align: top;\n    }\n\n    .dataframe thead th {\n        text-align: right;\n    }\n</style>\n<table border=\"1\" class=\"dataframe\">\n  <thead>\n    <tr style=\"text-align: right;\">\n      <th></th>\n      <th>movieId</th>\n      <th>rating</th>\n      <th>title</th>\n      <th>genres</th>\n      <th>year</th>\n    </tr>\n  </thead>\n  <tbody>\n    <tr>\n      <th>0</th>\n      <td>318</td>\n      <td>3.0</td>\n      <td>Shawshank Redemption, The (1994)</td>\n      <td>Crime|Drama</td>\n      <td>1994</td>\n    </tr>\n    <tr>\n      <th>1</th>\n      <td>333</td>\n      <td>4.0</td>\n      <td>Tommy Boy (1995)</td>\n      <td>Comedy</td>\n      <td>1995</td>\n    </tr>\n    <tr>\n      <th>2</th>\n      <td>1704</td>\n      <td>4.5</td>\n      <td>Good Will Hunting (1997)</td>\n      <td>Drama|Romance</td>\n      <td>1997</td>\n    </tr>\n    <tr>\n      <th>3</th>\n      <td>3578</td>\n      <td>4.0</td>\n      <td>Gladiator (2000)</td>\n      <td>Action|Adventure|Drama</td>\n      <td>2000</td>\n    </tr>\n    <tr>\n      <th>4</th>\n      <td>6874</td>\n      <td>4.0</td>\n      <td>Kill Bill: Vol. 1 (2003)</td>\n      <td>Action|Crime|Thriller</td>\n      <td>2003</td>\n    </tr>\n    <tr>\n      <th>5</th>\n      <td>8798</td>\n      <td>3.5</td>\n      <td>Collateral (2004)</td>\n      <td>Action|Crime|Drama|Thriller</td>\n      <td>2004</td>\n    </tr>\n    <tr>\n      <th>6</th>\n      <td>46970</td>\n      <td>4.0</td>\n      <td>Talladega Nights: The Ballad of Ricky Bobby (2...</td>\n      <td>Action|Comedy</td>\n      <td>2006</td>\n    </tr>\n    <tr>\n      <th>7</th>\n      <td>48516</td>\n      <td>4.0</td>\n      <td>Departed, The (2006)</td>\n      <td>Crime|Drama|Thriller</td>\n      <td>2006</td>\n    </tr>\n    <tr>\n      <th>8</th>\n      <td>58559</td>\n      <td>4.5</td>\n      <td>Dark Knight, The (2008)</td>\n      <td>Action|Crime|Drama|IMAX</td>\n      <td>2008</td>\n    </tr>\n    <tr>\n      <th>9</th>\n      <td>60756</td>\n      <td>5.0</td>\n      <td>Step Brothers (2008)</td>\n      <td>Comedy</td>\n      <td>2008</td>\n    </tr>\n    <tr>\n      <th>10</th>\n      <td>68157</td>\n      <td>4.5</td>\n      <td>Inglourious Basterds (2009)</td>\n      <td>Action|Drama|War</td>\n      <td>2009</td>\n    </tr>\n    <tr>\n      <th>11</th>\n      <td>71535</td>\n      <td>3.0</td>\n      <td>Zombieland (2009)</td>\n      <td>Action|Comedy|Horror</td>\n      <td>2009</td>\n    </tr>\n    <tr>\n      <th>12</th>\n      <td>74458</td>\n      <td>4.0</td>\n      <td>Shutter Island (2010)</td>\n      <td>Drama|Mystery|Thriller</td>\n      <td>2010</td>\n    </tr>\n    <tr>\n      <th>13</th>\n      <td>77455</td>\n      <td>3.0</td>\n      <td>Exit Through the Gift Shop (2010)</td>\n      <td>Comedy|Documentary</td>\n      <td>2010</td>\n    </tr>\n    <tr>\n      <th>14</th>\n      <td>79132</td>\n      <td>4.0</td>\n      <td>Inception (2010)</td>\n      <td>Action|Crime|Drama|Mystery|Sci-Fi|Thriller|IMAX</td>\n      <td>2010</td>\n    </tr>\n    <tr>\n      <th>15</th>\n      <td>80489</td>\n      <td>4.5</td>\n      <td>Town, The (2010)</td>\n      <td>Crime|Drama|Thriller</td>\n      <td>2010</td>\n    </tr>\n    <tr>\n      <th>16</th>\n      <td>80906</td>\n      <td>5.0</td>\n      <td>Inside Job (2010)</td>\n      <td>Documentary</td>\n      <td>2010</td>\n    </tr>\n    <tr>\n      <th>17</th>\n      <td>86345</td>\n      <td>4.0</td>\n      <td>Louis C.K.: Hilarious (2010)</td>\n      <td>Comedy</td>\n      <td>2010</td>\n    </tr>\n    <tr>\n      <th>18</th>\n      <td>89774</td>\n      <td>5.0</td>\n      <td>Warrior (2011)</td>\n      <td>Drama</td>\n      <td>2011</td>\n    </tr>\n    <tr>\n      <th>19</th>\n      <td>91529</td>\n      <td>3.5</td>\n      <td>Dark Knight Rises, The (2012)</td>\n      <td>Action|Adventure|Crime|IMAX</td>\n      <td>2012</td>\n    </tr>\n    <tr>\n      <th>20</th>\n      <td>91658</td>\n      <td>2.5</td>\n      <td>Girl with the Dragon Tattoo, The (2011)</td>\n      <td>Drama|Thriller</td>\n      <td>2011</td>\n    </tr>\n    <tr>\n      <th>21</th>\n      <td>99114</td>\n      <td>3.5</td>\n      <td>Django Unchained (2012)</td>\n      <td>Action|Drama|Western</td>\n      <td>2012</td>\n    </tr>\n    <tr>\n      <th>22</th>\n      <td>106782</td>\n      <td>5.0</td>\n      <td>Wolf of Wall Street, The (2013)</td>\n      <td>Comedy|Crime|Drama</td>\n      <td>2013</td>\n    </tr>\n    <tr>\n      <th>23</th>\n      <td>109487</td>\n      <td>3.0</td>\n      <td>Interstellar (2014)</td>\n      <td>Sci-Fi|IMAX</td>\n      <td>2014</td>\n    </tr>\n    <tr>\n      <th>24</th>\n      <td>112552</td>\n      <td>4.0</td>\n      <td>Whiplash (2014)</td>\n      <td>Drama</td>\n      <td>2014</td>\n    </tr>\n    <tr>\n      <th>25</th>\n      <td>114060</td>\n      <td>2.0</td>\n      <td>The Drop (2014)</td>\n      <td>Crime|Drama|Thriller</td>\n      <td>2014</td>\n    </tr>\n    <tr>\n      <th>26</th>\n      <td>115713</td>\n      <td>3.5</td>\n      <td>Ex Machina (2015)</td>\n      <td>Drama|Sci-Fi|Thriller</td>\n      <td>2015</td>\n    </tr>\n    <tr>\n      <th>27</th>\n      <td>122882</td>\n      <td>5.0</td>\n      <td>Mad Max: Fury Road (2015)</td>\n      <td>Action|Adventure|Sci-Fi|Thriller</td>\n      <td>2015</td>\n    </tr>\n    <tr>\n      <th>28</th>\n      <td>131724</td>\n      <td>5.0</td>\n      <td>The Jinx: The Life and Deaths of Robert Durst ...</td>\n      <td>Documentary</td>\n      <td>2015</td>\n    </tr>\n  </tbody>\n</table>\n</div>"
     },
     "execution_count": 80,
     "metadata": {},
     "output_type": "execute_result"
    }
   ],
   "source": [
    "df_ratings = pd.read_csv(\"./dataset/ratings.csv\")\n",
    "df_ou = df_ratings.loc[df_ratings['userId'] == 2, :]\n",
    "exi_user = df_user_train.loc[df_user_train['userId'] == 2, :].head(1)\n",
    "da = df_movies.copy()\n",
    "da = df_ou.drop(columns=['userId', 'timestamp']).merge(df_movies, on='movieId')\n",
    "da"
   ],
   "metadata": {
    "collapsed": false
   }
  },
  {
   "cell_type": "code",
   "execution_count": 79,
   "outputs": [
    {
     "name": "stdout",
     "output_type": "stream",
     "text": [
      "305/305 [==============================] - 1s 2ms/step\n"
     ]
    }
   ],
   "source": [
    "exi_user_vecs = np.tile(exi_user.values, (len(movie_vecs), 1))\n",
    "\n",
    "scaled_exi_user_vecs = user_scaler.transform(exi_user_vecs)\n",
    "\n",
    "y_exi_u = model.predict([scaled_exi_user_vecs[:, 3:], scaled_movie_vecs[:, 1:]])"
   ],
   "metadata": {
    "collapsed": false
   }
  },
  {
   "cell_type": "code",
   "execution_count": 83,
   "outputs": [
    {
     "data": {
      "text/plain": "    movieId  predicted_ratings  rating  \\\n0       318           4.342785     3.0   \n1       333           4.032282     4.0   \n2      1704           4.021544     4.5   \n3      3578           4.131263     4.0   \n4      6874           4.016548     4.0   \n5      8798           3.776386     3.5   \n6     46970           3.635421     4.0   \n7     48516           4.075258     4.0   \n8     58559           4.314220     4.5   \n9     60756           3.929608     5.0   \n10    68157           4.103902     4.5   \n11    71535           3.949745     3.0   \n12    74458           3.767011     4.0   \n13    77455           4.421134     3.0   \n14    79132           3.880080     4.0   \n15    80489           3.913500     4.5   \n16    80906           4.555583     5.0   \n17    86345           4.402301     4.0   \n18    89774           3.815065     5.0   \n19    91529           4.236567     3.5   \n20    91658           3.591106     2.5   \n21    99114           4.033219     3.5   \n22   106782           4.037127     5.0   \n23   109487           4.044484     3.0   \n24   112552           4.027896     4.0   \n25   114060           2.900875     2.0   \n26   115713           3.889425     3.5   \n27   122882           4.076680     5.0   \n28   131724           4.800305     5.0   \n\n                                                title  \\\n0                    Shawshank Redemption, The (1994)   \n1                                    Tommy Boy (1995)   \n2                            Good Will Hunting (1997)   \n3                                    Gladiator (2000)   \n4                            Kill Bill: Vol. 1 (2003)   \n5                                   Collateral (2004)   \n6   Talladega Nights: The Ballad of Ricky Bobby (2...   \n7                                Departed, The (2006)   \n8                             Dark Knight, The (2008)   \n9                                Step Brothers (2008)   \n10                        Inglourious Basterds (2009)   \n11                                  Zombieland (2009)   \n12                              Shutter Island (2010)   \n13                  Exit Through the Gift Shop (2010)   \n14                                   Inception (2010)   \n15                                   Town, The (2010)   \n16                                  Inside Job (2010)   \n17                       Louis C.K.: Hilarious (2010)   \n18                                     Warrior (2011)   \n19                      Dark Knight Rises, The (2012)   \n20            Girl with the Dragon Tattoo, The (2011)   \n21                            Django Unchained (2012)   \n22                    Wolf of Wall Street, The (2013)   \n23                                Interstellar (2014)   \n24                                    Whiplash (2014)   \n25                                    The Drop (2014)   \n26                                  Ex Machina (2015)   \n27                          Mad Max: Fury Road (2015)   \n28  The Jinx: The Life and Deaths of Robert Durst ...   \n\n                                             genres  year  \n0                                       Crime|Drama  1994  \n1                                            Comedy  1995  \n2                                     Drama|Romance  1997  \n3                            Action|Adventure|Drama  2000  \n4                             Action|Crime|Thriller  2003  \n5                       Action|Crime|Drama|Thriller  2004  \n6                                     Action|Comedy  2006  \n7                              Crime|Drama|Thriller  2006  \n8                           Action|Crime|Drama|IMAX  2008  \n9                                            Comedy  2008  \n10                                 Action|Drama|War  2009  \n11                             Action|Comedy|Horror  2009  \n12                           Drama|Mystery|Thriller  2010  \n13                               Comedy|Documentary  2010  \n14  Action|Crime|Drama|Mystery|Sci-Fi|Thriller|IMAX  2010  \n15                             Crime|Drama|Thriller  2010  \n16                                      Documentary  2010  \n17                                           Comedy  2010  \n18                                            Drama  2011  \n19                      Action|Adventure|Crime|IMAX  2012  \n20                                   Drama|Thriller  2011  \n21                             Action|Drama|Western  2012  \n22                               Comedy|Crime|Drama  2013  \n23                                      Sci-Fi|IMAX  2014  \n24                                            Drama  2014  \n25                             Crime|Drama|Thriller  2014  \n26                            Drama|Sci-Fi|Thriller  2015  \n27                 Action|Adventure|Sci-Fi|Thriller  2015  \n28                                      Documentary  2015  ",
      "text/html": "<div>\n<style scoped>\n    .dataframe tbody tr th:only-of-type {\n        vertical-align: middle;\n    }\n\n    .dataframe tbody tr th {\n        vertical-align: top;\n    }\n\n    .dataframe thead th {\n        text-align: right;\n    }\n</style>\n<table border=\"1\" class=\"dataframe\">\n  <thead>\n    <tr style=\"text-align: right;\">\n      <th></th>\n      <th>movieId</th>\n      <th>predicted_ratings</th>\n      <th>rating</th>\n      <th>title</th>\n      <th>genres</th>\n      <th>year</th>\n    </tr>\n  </thead>\n  <tbody>\n    <tr>\n      <th>0</th>\n      <td>318</td>\n      <td>4.342785</td>\n      <td>3.0</td>\n      <td>Shawshank Redemption, The (1994)</td>\n      <td>Crime|Drama</td>\n      <td>1994</td>\n    </tr>\n    <tr>\n      <th>1</th>\n      <td>333</td>\n      <td>4.032282</td>\n      <td>4.0</td>\n      <td>Tommy Boy (1995)</td>\n      <td>Comedy</td>\n      <td>1995</td>\n    </tr>\n    <tr>\n      <th>2</th>\n      <td>1704</td>\n      <td>4.021544</td>\n      <td>4.5</td>\n      <td>Good Will Hunting (1997)</td>\n      <td>Drama|Romance</td>\n      <td>1997</td>\n    </tr>\n    <tr>\n      <th>3</th>\n      <td>3578</td>\n      <td>4.131263</td>\n      <td>4.0</td>\n      <td>Gladiator (2000)</td>\n      <td>Action|Adventure|Drama</td>\n      <td>2000</td>\n    </tr>\n    <tr>\n      <th>4</th>\n      <td>6874</td>\n      <td>4.016548</td>\n      <td>4.0</td>\n      <td>Kill Bill: Vol. 1 (2003)</td>\n      <td>Action|Crime|Thriller</td>\n      <td>2003</td>\n    </tr>\n    <tr>\n      <th>5</th>\n      <td>8798</td>\n      <td>3.776386</td>\n      <td>3.5</td>\n      <td>Collateral (2004)</td>\n      <td>Action|Crime|Drama|Thriller</td>\n      <td>2004</td>\n    </tr>\n    <tr>\n      <th>6</th>\n      <td>46970</td>\n      <td>3.635421</td>\n      <td>4.0</td>\n      <td>Talladega Nights: The Ballad of Ricky Bobby (2...</td>\n      <td>Action|Comedy</td>\n      <td>2006</td>\n    </tr>\n    <tr>\n      <th>7</th>\n      <td>48516</td>\n      <td>4.075258</td>\n      <td>4.0</td>\n      <td>Departed, The (2006)</td>\n      <td>Crime|Drama|Thriller</td>\n      <td>2006</td>\n    </tr>\n    <tr>\n      <th>8</th>\n      <td>58559</td>\n      <td>4.314220</td>\n      <td>4.5</td>\n      <td>Dark Knight, The (2008)</td>\n      <td>Action|Crime|Drama|IMAX</td>\n      <td>2008</td>\n    </tr>\n    <tr>\n      <th>9</th>\n      <td>60756</td>\n      <td>3.929608</td>\n      <td>5.0</td>\n      <td>Step Brothers (2008)</td>\n      <td>Comedy</td>\n      <td>2008</td>\n    </tr>\n    <tr>\n      <th>10</th>\n      <td>68157</td>\n      <td>4.103902</td>\n      <td>4.5</td>\n      <td>Inglourious Basterds (2009)</td>\n      <td>Action|Drama|War</td>\n      <td>2009</td>\n    </tr>\n    <tr>\n      <th>11</th>\n      <td>71535</td>\n      <td>3.949745</td>\n      <td>3.0</td>\n      <td>Zombieland (2009)</td>\n      <td>Action|Comedy|Horror</td>\n      <td>2009</td>\n    </tr>\n    <tr>\n      <th>12</th>\n      <td>74458</td>\n      <td>3.767011</td>\n      <td>4.0</td>\n      <td>Shutter Island (2010)</td>\n      <td>Drama|Mystery|Thriller</td>\n      <td>2010</td>\n    </tr>\n    <tr>\n      <th>13</th>\n      <td>77455</td>\n      <td>4.421134</td>\n      <td>3.0</td>\n      <td>Exit Through the Gift Shop (2010)</td>\n      <td>Comedy|Documentary</td>\n      <td>2010</td>\n    </tr>\n    <tr>\n      <th>14</th>\n      <td>79132</td>\n      <td>3.880080</td>\n      <td>4.0</td>\n      <td>Inception (2010)</td>\n      <td>Action|Crime|Drama|Mystery|Sci-Fi|Thriller|IMAX</td>\n      <td>2010</td>\n    </tr>\n    <tr>\n      <th>15</th>\n      <td>80489</td>\n      <td>3.913500</td>\n      <td>4.5</td>\n      <td>Town, The (2010)</td>\n      <td>Crime|Drama|Thriller</td>\n      <td>2010</td>\n    </tr>\n    <tr>\n      <th>16</th>\n      <td>80906</td>\n      <td>4.555583</td>\n      <td>5.0</td>\n      <td>Inside Job (2010)</td>\n      <td>Documentary</td>\n      <td>2010</td>\n    </tr>\n    <tr>\n      <th>17</th>\n      <td>86345</td>\n      <td>4.402301</td>\n      <td>4.0</td>\n      <td>Louis C.K.: Hilarious (2010)</td>\n      <td>Comedy</td>\n      <td>2010</td>\n    </tr>\n    <tr>\n      <th>18</th>\n      <td>89774</td>\n      <td>3.815065</td>\n      <td>5.0</td>\n      <td>Warrior (2011)</td>\n      <td>Drama</td>\n      <td>2011</td>\n    </tr>\n    <tr>\n      <th>19</th>\n      <td>91529</td>\n      <td>4.236567</td>\n      <td>3.5</td>\n      <td>Dark Knight Rises, The (2012)</td>\n      <td>Action|Adventure|Crime|IMAX</td>\n      <td>2012</td>\n    </tr>\n    <tr>\n      <th>20</th>\n      <td>91658</td>\n      <td>3.591106</td>\n      <td>2.5</td>\n      <td>Girl with the Dragon Tattoo, The (2011)</td>\n      <td>Drama|Thriller</td>\n      <td>2011</td>\n    </tr>\n    <tr>\n      <th>21</th>\n      <td>99114</td>\n      <td>4.033219</td>\n      <td>3.5</td>\n      <td>Django Unchained (2012)</td>\n      <td>Action|Drama|Western</td>\n      <td>2012</td>\n    </tr>\n    <tr>\n      <th>22</th>\n      <td>106782</td>\n      <td>4.037127</td>\n      <td>5.0</td>\n      <td>Wolf of Wall Street, The (2013)</td>\n      <td>Comedy|Crime|Drama</td>\n      <td>2013</td>\n    </tr>\n    <tr>\n      <th>23</th>\n      <td>109487</td>\n      <td>4.044484</td>\n      <td>3.0</td>\n      <td>Interstellar (2014)</td>\n      <td>Sci-Fi|IMAX</td>\n      <td>2014</td>\n    </tr>\n    <tr>\n      <th>24</th>\n      <td>112552</td>\n      <td>4.027896</td>\n      <td>4.0</td>\n      <td>Whiplash (2014)</td>\n      <td>Drama</td>\n      <td>2014</td>\n    </tr>\n    <tr>\n      <th>25</th>\n      <td>114060</td>\n      <td>2.900875</td>\n      <td>2.0</td>\n      <td>The Drop (2014)</td>\n      <td>Crime|Drama|Thriller</td>\n      <td>2014</td>\n    </tr>\n    <tr>\n      <th>26</th>\n      <td>115713</td>\n      <td>3.889425</td>\n      <td>3.5</td>\n      <td>Ex Machina (2015)</td>\n      <td>Drama|Sci-Fi|Thriller</td>\n      <td>2015</td>\n    </tr>\n    <tr>\n      <th>27</th>\n      <td>122882</td>\n      <td>4.076680</td>\n      <td>5.0</td>\n      <td>Mad Max: Fury Road (2015)</td>\n      <td>Action|Adventure|Sci-Fi|Thriller</td>\n      <td>2015</td>\n    </tr>\n    <tr>\n      <th>28</th>\n      <td>131724</td>\n      <td>4.800305</td>\n      <td>5.0</td>\n      <td>The Jinx: The Life and Deaths of Robert Durst ...</td>\n      <td>Documentary</td>\n      <td>2015</td>\n    </tr>\n  </tbody>\n</table>\n</div>"
     },
     "execution_count": 83,
     "metadata": {},
     "output_type": "execute_result"
    }
   ],
   "source": [
    "y_exi_u_uscaled = y_scaler.inverse_transform(y_exi_u)\n",
    "df_m = df_movies.copy()\n",
    "df_m.insert(1, 'predicted_ratings', y_exi_u_uscaled)\n",
    "df_m.drop(columns=['title', 'genres', 'year']).merge(da, on='movieId')"
   ],
   "metadata": {
    "collapsed": false
   }
  }
 ],
 "metadata": {
  "kernelspec": {
   "display_name": "Python 3",
   "language": "python",
   "name": "python3"
  },
  "language_info": {
   "codemirror_mode": {
    "name": "ipython",
    "version": 2
   },
   "file_extension": ".py",
   "mimetype": "text/x-python",
   "name": "python",
   "nbconvert_exporter": "python",
   "pygments_lexer": "ipython2",
   "version": "2.7.6"
  }
 },
 "nbformat": 4,
 "nbformat_minor": 0
}
