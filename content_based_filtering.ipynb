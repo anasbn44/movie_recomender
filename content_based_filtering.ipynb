{
 "cells": [
  {
   "cell_type": "code",
   "execution_count": 7,
   "metadata": {
    "collapsed": true
   },
   "outputs": [],
   "source": [
    "import numpy as np\n",
    "import pandas as pd\n",
    "\n",
    "from sklearn.model_selection import train_test_split\n",
    "from sklearn.preprocessing import MinMaxScaler, StandardScaler\n",
    "\n",
    "import tensorflow as tf\n",
    "\n",
    "from CBF_utils import load_data"
   ]
  },
  {
   "cell_type": "code",
   "execution_count": 9,
   "outputs": [
    {
     "name": "stdout",
     "output_type": "stream",
     "text": [
      "movies training set shape : (100836, 23)\n",
      "user training set shape : (100836, 23)\n",
      "y training set shape : (100836,)\n",
      "original movies dataset shape : (9742, 4)\n"
     ]
    }
   ],
   "source": [
    "df_movies_train, df_user_train, df_y_train, df_movies = load_data()\n",
    "\n",
    "print(f\"movies training set shape : {df_movies_train.shape}\")\n",
    "print(f\"user training set shape : {df_user_train.shape}\")\n",
    "print(f\"y training set shape : {df_y_train.shape}\")\n",
    "print(f\"original movies dataset shape : {df_movies.shape}\")"
   ],
   "metadata": {
    "collapsed": false
   }
  },
  {
   "cell_type": "code",
   "execution_count": 10,
   "outputs": [
    {
     "name": "stdout",
     "output_type": "stream",
     "text": [
      "movies training contains nan values : 0\n",
      "user training contains nan values : 0\n",
      "y training contains nan values : 0\n"
     ]
    }
   ],
   "source": [
    "print(f\"movies training contains nan values : {df_movies_train.isna().values.sum()}\")\n",
    "print(f\"user training contains nan values : {df_user_train.isna().values.sum()}\")\n",
    "print(f\"y training contains nan values : {df_y_train.isna().values.sum()}\")"
   ],
   "metadata": {
    "collapsed": false
   }
  },
  {
   "cell_type": "code",
   "execution_count": 4,
   "outputs": [
    {
     "data": {
      "text/plain": "     movieId  year    rating  (no genres listed)  Action  Adventure  \\\n0          1  1995  3.920930                 0.0     0.0        1.0   \n215        3  1995  3.259615                 0.0     0.0        0.0   \n267        6  1995  3.946078                 0.0     1.0        0.0   \n369       47  1995  3.975369                 0.0     0.0        0.0   \n572       50  1995  4.237745                 0.0     0.0        0.0   \n776       70  1996  3.509091                 0.0     1.0        0.0   \n831      101  1996  3.782609                 0.0     0.0        1.0   \n\n     Animation  Children  Comedy  Crime  ...  Film-Noir  Horror  IMAX  \\\n0          1.0       1.0     1.0    0.0  ...        0.0     0.0   0.0   \n215        0.0       0.0     1.0    0.0  ...        0.0     0.0   0.0   \n267        0.0       0.0     0.0    1.0  ...        0.0     0.0   0.0   \n369        0.0       0.0     0.0    0.0  ...        0.0     0.0   0.0   \n572        0.0       0.0     0.0    1.0  ...        0.0     0.0   0.0   \n776        0.0       0.0     1.0    0.0  ...        0.0     1.0   0.0   \n831        0.0       0.0     1.0    1.0  ...        0.0     0.0   0.0   \n\n     Musical  Mystery  Romance  Sci-Fi  Thriller  War  Western  \n0        0.0      0.0      0.0     0.0       0.0  0.0      0.0  \n215      0.0      0.0      1.0     0.0       0.0  0.0      0.0  \n267      0.0      0.0      0.0     0.0       1.0  0.0      0.0  \n369      0.0      1.0      0.0     0.0       1.0  0.0      0.0  \n572      0.0      1.0      0.0     0.0       1.0  0.0      0.0  \n776      0.0      0.0      0.0     0.0       1.0  0.0      0.0  \n831      0.0      0.0      1.0     0.0       0.0  0.0      0.0  \n\n[7 rows x 23 columns]",
      "text/html": "<div>\n<style scoped>\n    .dataframe tbody tr th:only-of-type {\n        vertical-align: middle;\n    }\n\n    .dataframe tbody tr th {\n        vertical-align: top;\n    }\n\n    .dataframe thead th {\n        text-align: right;\n    }\n</style>\n<table border=\"1\" class=\"dataframe\">\n  <thead>\n    <tr style=\"text-align: right;\">\n      <th></th>\n      <th>movieId</th>\n      <th>year</th>\n      <th>rating</th>\n      <th>(no genres listed)</th>\n      <th>Action</th>\n      <th>Adventure</th>\n      <th>Animation</th>\n      <th>Children</th>\n      <th>Comedy</th>\n      <th>Crime</th>\n      <th>...</th>\n      <th>Film-Noir</th>\n      <th>Horror</th>\n      <th>IMAX</th>\n      <th>Musical</th>\n      <th>Mystery</th>\n      <th>Romance</th>\n      <th>Sci-Fi</th>\n      <th>Thriller</th>\n      <th>War</th>\n      <th>Western</th>\n    </tr>\n  </thead>\n  <tbody>\n    <tr>\n      <th>0</th>\n      <td>1</td>\n      <td>1995</td>\n      <td>3.920930</td>\n      <td>0.0</td>\n      <td>0.0</td>\n      <td>1.0</td>\n      <td>1.0</td>\n      <td>1.0</td>\n      <td>1.0</td>\n      <td>0.0</td>\n      <td>...</td>\n      <td>0.0</td>\n      <td>0.0</td>\n      <td>0.0</td>\n      <td>0.0</td>\n      <td>0.0</td>\n      <td>0.0</td>\n      <td>0.0</td>\n      <td>0.0</td>\n      <td>0.0</td>\n      <td>0.0</td>\n    </tr>\n    <tr>\n      <th>215</th>\n      <td>3</td>\n      <td>1995</td>\n      <td>3.259615</td>\n      <td>0.0</td>\n      <td>0.0</td>\n      <td>0.0</td>\n      <td>0.0</td>\n      <td>0.0</td>\n      <td>1.0</td>\n      <td>0.0</td>\n      <td>...</td>\n      <td>0.0</td>\n      <td>0.0</td>\n      <td>0.0</td>\n      <td>0.0</td>\n      <td>0.0</td>\n      <td>1.0</td>\n      <td>0.0</td>\n      <td>0.0</td>\n      <td>0.0</td>\n      <td>0.0</td>\n    </tr>\n    <tr>\n      <th>267</th>\n      <td>6</td>\n      <td>1995</td>\n      <td>3.946078</td>\n      <td>0.0</td>\n      <td>1.0</td>\n      <td>0.0</td>\n      <td>0.0</td>\n      <td>0.0</td>\n      <td>0.0</td>\n      <td>1.0</td>\n      <td>...</td>\n      <td>0.0</td>\n      <td>0.0</td>\n      <td>0.0</td>\n      <td>0.0</td>\n      <td>0.0</td>\n      <td>0.0</td>\n      <td>0.0</td>\n      <td>1.0</td>\n      <td>0.0</td>\n      <td>0.0</td>\n    </tr>\n    <tr>\n      <th>369</th>\n      <td>47</td>\n      <td>1995</td>\n      <td>3.975369</td>\n      <td>0.0</td>\n      <td>0.0</td>\n      <td>0.0</td>\n      <td>0.0</td>\n      <td>0.0</td>\n      <td>0.0</td>\n      <td>0.0</td>\n      <td>...</td>\n      <td>0.0</td>\n      <td>0.0</td>\n      <td>0.0</td>\n      <td>0.0</td>\n      <td>1.0</td>\n      <td>0.0</td>\n      <td>0.0</td>\n      <td>1.0</td>\n      <td>0.0</td>\n      <td>0.0</td>\n    </tr>\n    <tr>\n      <th>572</th>\n      <td>50</td>\n      <td>1995</td>\n      <td>4.237745</td>\n      <td>0.0</td>\n      <td>0.0</td>\n      <td>0.0</td>\n      <td>0.0</td>\n      <td>0.0</td>\n      <td>0.0</td>\n      <td>1.0</td>\n      <td>...</td>\n      <td>0.0</td>\n      <td>0.0</td>\n      <td>0.0</td>\n      <td>0.0</td>\n      <td>1.0</td>\n      <td>0.0</td>\n      <td>0.0</td>\n      <td>1.0</td>\n      <td>0.0</td>\n      <td>0.0</td>\n    </tr>\n    <tr>\n      <th>776</th>\n      <td>70</td>\n      <td>1996</td>\n      <td>3.509091</td>\n      <td>0.0</td>\n      <td>1.0</td>\n      <td>0.0</td>\n      <td>0.0</td>\n      <td>0.0</td>\n      <td>1.0</td>\n      <td>0.0</td>\n      <td>...</td>\n      <td>0.0</td>\n      <td>1.0</td>\n      <td>0.0</td>\n      <td>0.0</td>\n      <td>0.0</td>\n      <td>0.0</td>\n      <td>0.0</td>\n      <td>1.0</td>\n      <td>0.0</td>\n      <td>0.0</td>\n    </tr>\n    <tr>\n      <th>831</th>\n      <td>101</td>\n      <td>1996</td>\n      <td>3.782609</td>\n      <td>0.0</td>\n      <td>0.0</td>\n      <td>1.0</td>\n      <td>0.0</td>\n      <td>0.0</td>\n      <td>1.0</td>\n      <td>1.0</td>\n      <td>...</td>\n      <td>0.0</td>\n      <td>0.0</td>\n      <td>0.0</td>\n      <td>0.0</td>\n      <td>0.0</td>\n      <td>1.0</td>\n      <td>0.0</td>\n      <td>0.0</td>\n      <td>0.0</td>\n      <td>0.0</td>\n    </tr>\n  </tbody>\n</table>\n<p>7 rows × 23 columns</p>\n</div>"
     },
     "execution_count": 4,
     "metadata": {},
     "output_type": "execute_result"
    }
   ],
   "source": [
    "df_movies_train.head(7)"
   ],
   "metadata": {
    "collapsed": false
   }
  },
  {
   "cell_type": "code",
   "execution_count": 5,
   "outputs": [
    {
     "data": {
      "text/plain": "   userId  rating_count  rating_mean  (no genres listed)    Action  Adventure  \\\n0       1           232     4.366379                 0.0  4.322222   4.388235   \n1       1           232     4.366379                 0.0  4.322222   4.388235   \n2       1           232     4.366379                 0.0  4.322222   4.388235   \n3       1           232     4.366379                 0.0  4.322222   4.388235   \n4       1           232     4.366379                 0.0  4.322222   4.388235   \n5       1           232     4.366379                 0.0  4.322222   4.388235   \n6       1           232     4.366379                 0.0  4.322222   4.388235   \n\n   Animation  Children    Comedy     Crime  ...  Film-Noir    Horror  IMAX  \\\n0   4.689655  4.547619  4.277108  4.355556  ...        5.0  3.470588   0.0   \n1   4.689655  4.547619  4.277108  4.355556  ...        5.0  3.470588   0.0   \n2   4.689655  4.547619  4.277108  4.355556  ...        5.0  3.470588   0.0   \n3   4.689655  4.547619  4.277108  4.355556  ...        5.0  3.470588   0.0   \n4   4.689655  4.547619  4.277108  4.355556  ...        5.0  3.470588   0.0   \n5   4.689655  4.547619  4.277108  4.355556  ...        5.0  3.470588   0.0   \n6   4.689655  4.547619  4.277108  4.355556  ...        5.0  3.470588   0.0   \n\n    Musical   Mystery   Romance  Sci-Fi  Thriller  War   Western  \n0  4.681818  4.166667  4.307692   4.225  4.145455  4.5  4.285714  \n1  4.681818  4.166667  4.307692   4.225  4.145455  4.5  4.285714  \n2  4.681818  4.166667  4.307692   4.225  4.145455  4.5  4.285714  \n3  4.681818  4.166667  4.307692   4.225  4.145455  4.5  4.285714  \n4  4.681818  4.166667  4.307692   4.225  4.145455  4.5  4.285714  \n5  4.681818  4.166667  4.307692   4.225  4.145455  4.5  4.285714  \n6  4.681818  4.166667  4.307692   4.225  4.145455  4.5  4.285714  \n\n[7 rows x 23 columns]",
      "text/html": "<div>\n<style scoped>\n    .dataframe tbody tr th:only-of-type {\n        vertical-align: middle;\n    }\n\n    .dataframe tbody tr th {\n        vertical-align: top;\n    }\n\n    .dataframe thead th {\n        text-align: right;\n    }\n</style>\n<table border=\"1\" class=\"dataframe\">\n  <thead>\n    <tr style=\"text-align: right;\">\n      <th></th>\n      <th>userId</th>\n      <th>rating_count</th>\n      <th>rating_mean</th>\n      <th>(no genres listed)</th>\n      <th>Action</th>\n      <th>Adventure</th>\n      <th>Animation</th>\n      <th>Children</th>\n      <th>Comedy</th>\n      <th>Crime</th>\n      <th>...</th>\n      <th>Film-Noir</th>\n      <th>Horror</th>\n      <th>IMAX</th>\n      <th>Musical</th>\n      <th>Mystery</th>\n      <th>Romance</th>\n      <th>Sci-Fi</th>\n      <th>Thriller</th>\n      <th>War</th>\n      <th>Western</th>\n    </tr>\n  </thead>\n  <tbody>\n    <tr>\n      <th>0</th>\n      <td>1</td>\n      <td>232</td>\n      <td>4.366379</td>\n      <td>0.0</td>\n      <td>4.322222</td>\n      <td>4.388235</td>\n      <td>4.689655</td>\n      <td>4.547619</td>\n      <td>4.277108</td>\n      <td>4.355556</td>\n      <td>...</td>\n      <td>5.0</td>\n      <td>3.470588</td>\n      <td>0.0</td>\n      <td>4.681818</td>\n      <td>4.166667</td>\n      <td>4.307692</td>\n      <td>4.225</td>\n      <td>4.145455</td>\n      <td>4.5</td>\n      <td>4.285714</td>\n    </tr>\n    <tr>\n      <th>1</th>\n      <td>1</td>\n      <td>232</td>\n      <td>4.366379</td>\n      <td>0.0</td>\n      <td>4.322222</td>\n      <td>4.388235</td>\n      <td>4.689655</td>\n      <td>4.547619</td>\n      <td>4.277108</td>\n      <td>4.355556</td>\n      <td>...</td>\n      <td>5.0</td>\n      <td>3.470588</td>\n      <td>0.0</td>\n      <td>4.681818</td>\n      <td>4.166667</td>\n      <td>4.307692</td>\n      <td>4.225</td>\n      <td>4.145455</td>\n      <td>4.5</td>\n      <td>4.285714</td>\n    </tr>\n    <tr>\n      <th>2</th>\n      <td>1</td>\n      <td>232</td>\n      <td>4.366379</td>\n      <td>0.0</td>\n      <td>4.322222</td>\n      <td>4.388235</td>\n      <td>4.689655</td>\n      <td>4.547619</td>\n      <td>4.277108</td>\n      <td>4.355556</td>\n      <td>...</td>\n      <td>5.0</td>\n      <td>3.470588</td>\n      <td>0.0</td>\n      <td>4.681818</td>\n      <td>4.166667</td>\n      <td>4.307692</td>\n      <td>4.225</td>\n      <td>4.145455</td>\n      <td>4.5</td>\n      <td>4.285714</td>\n    </tr>\n    <tr>\n      <th>3</th>\n      <td>1</td>\n      <td>232</td>\n      <td>4.366379</td>\n      <td>0.0</td>\n      <td>4.322222</td>\n      <td>4.388235</td>\n      <td>4.689655</td>\n      <td>4.547619</td>\n      <td>4.277108</td>\n      <td>4.355556</td>\n      <td>...</td>\n      <td>5.0</td>\n      <td>3.470588</td>\n      <td>0.0</td>\n      <td>4.681818</td>\n      <td>4.166667</td>\n      <td>4.307692</td>\n      <td>4.225</td>\n      <td>4.145455</td>\n      <td>4.5</td>\n      <td>4.285714</td>\n    </tr>\n    <tr>\n      <th>4</th>\n      <td>1</td>\n      <td>232</td>\n      <td>4.366379</td>\n      <td>0.0</td>\n      <td>4.322222</td>\n      <td>4.388235</td>\n      <td>4.689655</td>\n      <td>4.547619</td>\n      <td>4.277108</td>\n      <td>4.355556</td>\n      <td>...</td>\n      <td>5.0</td>\n      <td>3.470588</td>\n      <td>0.0</td>\n      <td>4.681818</td>\n      <td>4.166667</td>\n      <td>4.307692</td>\n      <td>4.225</td>\n      <td>4.145455</td>\n      <td>4.5</td>\n      <td>4.285714</td>\n    </tr>\n    <tr>\n      <th>5</th>\n      <td>1</td>\n      <td>232</td>\n      <td>4.366379</td>\n      <td>0.0</td>\n      <td>4.322222</td>\n      <td>4.388235</td>\n      <td>4.689655</td>\n      <td>4.547619</td>\n      <td>4.277108</td>\n      <td>4.355556</td>\n      <td>...</td>\n      <td>5.0</td>\n      <td>3.470588</td>\n      <td>0.0</td>\n      <td>4.681818</td>\n      <td>4.166667</td>\n      <td>4.307692</td>\n      <td>4.225</td>\n      <td>4.145455</td>\n      <td>4.5</td>\n      <td>4.285714</td>\n    </tr>\n    <tr>\n      <th>6</th>\n      <td>1</td>\n      <td>232</td>\n      <td>4.366379</td>\n      <td>0.0</td>\n      <td>4.322222</td>\n      <td>4.388235</td>\n      <td>4.689655</td>\n      <td>4.547619</td>\n      <td>4.277108</td>\n      <td>4.355556</td>\n      <td>...</td>\n      <td>5.0</td>\n      <td>3.470588</td>\n      <td>0.0</td>\n      <td>4.681818</td>\n      <td>4.166667</td>\n      <td>4.307692</td>\n      <td>4.225</td>\n      <td>4.145455</td>\n      <td>4.5</td>\n      <td>4.285714</td>\n    </tr>\n  </tbody>\n</table>\n<p>7 rows × 23 columns</p>\n</div>"
     },
     "execution_count": 5,
     "metadata": {},
     "output_type": "execute_result"
    }
   ],
   "source": [
    "df_user_train.head(7)"
   ],
   "metadata": {
    "collapsed": false
   }
  },
  {
   "cell_type": "code",
   "execution_count": 6,
   "outputs": [
    {
     "data": {
      "text/plain": "0    4.0\n1    4.0\n2    4.0\n3    5.0\n4    5.0\n5    3.0\n6    5.0\nName: rating, dtype: float64"
     },
     "execution_count": 6,
     "metadata": {},
     "output_type": "execute_result"
    }
   ],
   "source": [
    "df_y_train.head(7)"
   ],
   "metadata": {
    "collapsed": false
   }
  },
  {
   "cell_type": "code",
   "execution_count": 26,
   "outputs": [],
   "source": [
    "movie_train = df_movies_train.values\n",
    "user_train = df_user_train.values\n",
    "y_train = df_y_train.values.reshape(-1, 1)"
   ],
   "metadata": {
    "collapsed": false
   }
  },
  {
   "cell_type": "code",
   "execution_count": 28,
   "outputs": [],
   "source": [
    "movies_train_unscaled = movie_train\n",
    "user_train_unscaled = user_train\n",
    "y_train_unscaled = y_train\n",
    "\n",
    "movie_scaler = StandardScaler()\n",
    "movie_train = movie_scaler.fit_transform(movie_train)\n",
    "\n",
    "user_scaler = StandardScaler()\n",
    "user_train = user_scaler.fit_transform(user_train)\n",
    "\n",
    "y_scaler = MinMaxScaler()\n",
    "y_train = y_scaler.fit_transform(y_train)\n",
    "\n",
    "# print(np.allclose(movies_train_unscaled, movie_scaler.inverse_transform(movie_train)))"
   ],
   "metadata": {
    "collapsed": false
   }
  },
  {
   "cell_type": "code",
   "execution_count": 29,
   "outputs": [
    {
     "name": "stdout",
     "output_type": "stream",
     "text": [
      "training data shape : (80668, 23)\n",
      "test data shape : (20168, 23)\n"
     ]
    }
   ],
   "source": [
    "movie_train, movie_test = train_test_split(movie_train, shuffle=True, train_size=0.8, random_state=1)\n",
    "user_train, user_test = train_test_split(user_train, shuffle=True, train_size=0.8, random_state=1)\n",
    "y_train, y_test = train_test_split(y_train, shuffle=True, train_size=0.8, random_state=1)\n",
    "\n",
    "print(f\"training data shape : {movie_train.shape}\")\n",
    "print(f\"test data shape : {movie_test.shape}\")"
   ],
   "metadata": {
    "collapsed": false
   }
  }
 ],
 "metadata": {
  "kernelspec": {
   "display_name": "Python 3",
   "language": "python",
   "name": "python3"
  },
  "language_info": {
   "codemirror_mode": {
    "name": "ipython",
    "version": 2
   },
   "file_extension": ".py",
   "mimetype": "text/x-python",
   "name": "python",
   "nbconvert_exporter": "python",
   "pygments_lexer": "ipython2",
   "version": "2.7.6"
  }
 },
 "nbformat": 4,
 "nbformat_minor": 0
}
